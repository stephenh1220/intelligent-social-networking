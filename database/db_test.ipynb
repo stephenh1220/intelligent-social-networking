{
 "cells": [
  {
   "cell_type": "code",
   "execution_count": 61,
   "metadata": {},
   "outputs": [],
   "source": [
    "import numpy as np  "
   ]
  },
  {
   "cell_type": "code",
   "execution_count": null,
   "metadata": {},
   "outputs": [
    {
     "name": "stdout",
     "output_type": "stream",
     "text": [
      "vec1 [[ 0.00810847 -1.45667206 -0.64782867 -0.62938774  0.28535454  0.99353375\n",
      "  -0.25334798  0.22420052]]\n",
      "vec2 [[-0.02738609  0.02225765  0.45460677 -0.17382567  0.73159416 -0.0988793\n",
      "   0.49947495  1.21354151]]\n",
      "compressed_vec1 [[-1.1213429  -0.77420553 -1.04170849 -3.33935058]]\n",
      "compressed_vec2 [[-0.2557735   0.60516145  0.37639743 -0.58047966]]\n"
     ]
    }
   ],
   "source": [
    "# initializer vectors and projection matrix\n",
    "vec = np.random.randn(1,8)\n",
    "vec2 = np.random.randn(1,8)\n",
    "projection_mat = np.random.randn(4, 8)\n",
    "print(\"vec1\", vec)\n",
    "print(\"vec2\", vec2)\n",
    "\n",
    "# compress vectors\n",
    "compressed_vec1 = np.dot(projection_mat, vec.T).T\n",
    "compressed_vec2 = np.dot(projection_mat, vec2.T).T\n",
    "print(\"compressed_vec1\", compressed_vec1)\n",
    "print(\"compressed_vec2\", compressed_vec2)"
   ]
  },
  {
   "cell_type": "code",
   "execution_count": 110,
   "metadata": {},
   "outputs": [
    {
     "name": "stdout",
     "output_type": "stream",
     "text": [
      "[[ 0.00810847 -1.45667206 -0.64782867 -0.62938774  0.28535454  0.99353375\n",
      "  -0.25334798  0.22420052]\n",
      " [-0.02738609  0.02225765  0.45460677 -0.17382567  0.73159416 -0.0988793\n",
      "   0.49947495  1.21354151]]\n"
     ]
    },
    {
     "data": {
      "text/plain": [
       "array([-0.02738609,  0.02225765,  0.45460677, -0.17382567,  0.73159416,\n",
       "       -0.0988793 ,  0.49947495,  1.21354151])"
      ]
     },
     "execution_count": 110,
     "metadata": {},
     "output_type": "execute_result"
    }
   ],
   "source": [
    "mat = vec\n",
    "# print(vec)\n",
    "mat = np.concatenate((mat, vec2))\n",
    "print(mat)\n",
    "mat[1]"
   ]
  },
  {
   "cell_type": "code",
   "execution_count": 71,
   "metadata": {},
   "outputs": [
    {
     "name": "stdout",
     "output_type": "stream",
     "text": [
      "compressed mat: [[-1.1213429  -0.2557735 ]\n",
      " [-0.77420553  0.60516145]\n",
      " [-1.04170849  0.37639743]\n",
      " [-3.33935058 -0.58047966]]\n"
     ]
    }
   ],
   "source": [
    "compressed_mat = compressed_vec1.reshape(-1,1)\n",
    "compressed_mat = np.concatenate((compressed_mat, compressed_vec2.reshape(-1,1)), axis=1)\n",
    "print(\"compressed mat:\", compressed_mat)"
   ]
  },
  {
   "cell_type": "code",
   "execution_count": null,
   "metadata": {},
   "outputs": [
    {
     "name": "stdout",
     "output_type": "stream",
     "text": [
      "[[-3.59463287 -2.2040294  -1.37286256 -2.75750267]]\n",
      "l2 [ 8.60976958 26.83887487]\n",
      "cos [[0.83534756 0.134392  ]]\n",
      "best_vec_l2: [-1.1213429  -0.77420553 -1.04170849 -3.33935058]\n",
      "best_vec_cos: [-1.1213429  -0.77420553 -1.04170849 -3.33935058]\n"
     ]
    }
   ],
   "source": [
    "# test query projection\n",
    "query =  np.random.randn(1,8)\n",
    "projected_query = np.dot(projection_mat, query.T).T\n",
    "print(projected_query)\n",
    "\n",
    "# similarities = np.sum((compressed_mat - projected_query) ** 2, axis=1)\n",
    "distances = np.sum((compressed_mat - projected_query.reshape(-1, 1))**2, axis=0)\n",
    "dot_prods = np.dot(projected_query, compressed_mat)\n",
    "similarities = dot_prods / (np.linalg.norm(compressed_mat, axis=0) * np.linalg.norm(projected_query))\n",
    "print(\"l2\", distances)\n",
    "print(\"cos\", similarities)\n",
    "\n",
    "vec_indexl2 = np.argmin(distances)\n",
    "vec_index_cos = np.argmax(similarities)\n",
    "best_vecl2 = compressed_mat[:, vec_indexl2]\n",
    "best_vec_cos = compressed_mat[:, vec_index_cos]\n",
    "print(\"best_vec_l2:\", best_vecl2)\n",
    "print(\"best_vec_cos:\", best_vec_cos)"
   ]
  },
  {
   "cell_type": "code",
   "execution_count": null,
   "metadata": {},
   "outputs": [
    {
     "ename": "IndentationError",
     "evalue": "unindent does not match any outer indentation level (<tokenize>, line 3)",
     "output_type": "error",
     "traceback": [
      "\u001b[0;36m  File \u001b[0;32m<tokenize>:3\u001b[0;36m\u001b[0m\n\u001b[0;31m    elif self.dist_func == \"cosine\":\u001b[0m\n\u001b[0m    ^\u001b[0m\n\u001b[0;31mIndentationError\u001b[0m\u001b[0;31m:\u001b[0m unindent does not match any outer indentation level\n"
     ]
    }
   ],
   "source": [
    "if self.dist_func == \"l2_squared\":\n",
    "    similarities = np.sum((self.compressed_mat - projected_query) ** 2, axis=1)\n",
    "elif self.dist_func == \"cosine\":\n",
    "    similarities = np.dot(self.compressed_mat, projected_query) / (\n",
    "                    np.linalg.norm(self.compressed_mat, axis=1) * np.linalg.norm(projected_query)\n",
    "                )"
   ]
  },
  {
   "cell_type": "code",
   "execution_count": 59,
   "metadata": {},
   "outputs": [
    {
     "name": "stdout",
     "output_type": "stream",
     "text": [
      "[1 2 3 4]\n",
      "[[1, 3], [2, 4], [3, 1], [2, 2]]\n",
      "[[1]\n",
      " [2]\n",
      " [3]\n",
      " [4]]\n",
      "Similarities: [ 4 16]\n"
     ]
    }
   ],
   "source": [
    "import numpy as np\n",
    "\n",
    "def l2_squared_distance(vector, matrix):\n",
    "    # Calculate L2 squared distance between the vector and each column of the matrix\n",
    "    print(vector.reshape(-1, 1))\n",
    "    distances = np.sum((matrix - vector.reshape(-1, 1))**2, axis=0)\n",
    "    return distances\n",
    "\n",
    "# Example usage\n",
    "vector = np.array([1, 2, 3, 4])  # Example 1x4 vector\n",
    "print(vector)\n",
    "matrix = [[1, 3], [2, 4], [3,1], [2, 2]]  # Example 4xm matrix, here m is 100\n",
    "print(matrix)\n",
    "similarities = l2_squared_distance(vector, matrix)\n",
    "\n",
    "print(\"Similarities:\", similarities)"
   ]
  },
  {
   "cell_type": "code",
   "execution_count": null,
   "metadata": {},
   "outputs": [],
   "source": []
  }
 ],
 "metadata": {
  "kernelspec": {
   "display_name": "Python 3",
   "language": "python",
   "name": "python3"
  },
  "language_info": {
   "codemirror_mode": {
    "name": "ipython",
    "version": 3
   },
   "file_extension": ".py",
   "mimetype": "text/x-python",
   "name": "python",
   "nbconvert_exporter": "python",
   "pygments_lexer": "ipython3",
   "version": "3.9.7"
  }
 },
 "nbformat": 4,
 "nbformat_minor": 2
}
